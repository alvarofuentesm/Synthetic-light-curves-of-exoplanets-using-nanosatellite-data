{
 "cells": [
  {
   "cell_type": "code",
   "execution_count": 1,
   "id": "da50a856",
   "metadata": {},
   "outputs": [],
   "source": [
    "import numpy as np\n",
    "import pandas as pd\n",
    "import matplotlib.pyplot as plt\n",
    "import seaborn as sns\n",
    "\n",
    "from astropy.constants import au, R_sun, R_jup, R_earth, au\n"
   ]
  },
  {
   "cell_type": "code",
   "execution_count": null,
   "id": "5fa76e0b",
   "metadata": {},
   "outputs": [],
   "source": []
  },
  {
   "cell_type": "code",
   "execution_count": null,
   "id": "af50520e",
   "metadata": {},
   "outputs": [],
   "source": []
  },
  {
   "cell_type": "code",
   "execution_count": 2,
   "id": "22283448",
   "metadata": {},
   "outputs": [
    {
     "data": {
      "text/html": [
       "<div>\n",
       "<style scoped>\n",
       "    .dataframe tbody tr th:only-of-type {\n",
       "        vertical-align: middle;\n",
       "    }\n",
       "\n",
       "    .dataframe tbody tr th {\n",
       "        vertical-align: top;\n",
       "    }\n",
       "\n",
       "    .dataframe thead th {\n",
       "        text-align: right;\n",
       "    }\n",
       "</style>\n",
       "<table border=\"1\" class=\"dataframe\">\n",
       "  <thead>\n",
       "    <tr style=\"text-align: right;\">\n",
       "      <th></th>\n",
       "      <th>target</th>\n",
       "      <th>satellite</th>\n",
       "      <th>label</th>\n",
       "      <th>index</th>\n",
       "      <th>filename</th>\n",
       "      <th>view</th>\n",
       "      <th>period</th>\n",
       "      <th>t0</th>\n",
       "      <th>star_radius</th>\n",
       "      <th>k</th>\n",
       "      <th>aos</th>\n",
       "      <th>i</th>\n",
       "      <th>e</th>\n",
       "      <th>w</th>\n",
       "      <th>ldcs_1</th>\n",
       "      <th>ldcs_2</th>\n",
       "      <th>n_points_transit</th>\n",
       "    </tr>\n",
       "  </thead>\n",
       "  <tbody>\n",
       "    <tr>\n",
       "      <th>0</th>\n",
       "      <td>HD102249</td>\n",
       "      <td>BHr</td>\n",
       "      <td>PC</td>\n",
       "      <td>0</td>\n",
       "      <td>0_curve_HD102249_BHr.npy</td>\n",
       "      <td>Curve</td>\n",
       "      <td>2.485603</td>\n",
       "      <td>1506.040641</td>\n",
       "      <td>3.47246</td>\n",
       "      <td>0.032584</td>\n",
       "      <td>3.100417</td>\n",
       "      <td>1.541473</td>\n",
       "      <td>0.0</td>\n",
       "      <td>0.0</td>\n",
       "      <td>0.32</td>\n",
       "      <td>0.07</td>\n",
       "      <td>2076</td>\n",
       "    </tr>\n",
       "    <tr>\n",
       "      <th>1</th>\n",
       "      <td>HD102249</td>\n",
       "      <td>BHr</td>\n",
       "      <td>PC</td>\n",
       "      <td>0</td>\n",
       "      <td>0_fold_HD102249_BHr.npy</td>\n",
       "      <td>PhaseFold</td>\n",
       "      <td>2.485603</td>\n",
       "      <td>1506.040641</td>\n",
       "      <td>3.47246</td>\n",
       "      <td>0.032584</td>\n",
       "      <td>3.100417</td>\n",
       "      <td>1.541473</td>\n",
       "      <td>0.0</td>\n",
       "      <td>0.0</td>\n",
       "      <td>0.32</td>\n",
       "      <td>0.07</td>\n",
       "      <td>2076</td>\n",
       "    </tr>\n",
       "    <tr>\n",
       "      <th>2</th>\n",
       "      <td>HD102249</td>\n",
       "      <td>BHr</td>\n",
       "      <td>PC</td>\n",
       "      <td>0</td>\n",
       "      <td>0_global_HD102249_BHr.npy</td>\n",
       "      <td>Global</td>\n",
       "      <td>2.485603</td>\n",
       "      <td>1506.040641</td>\n",
       "      <td>3.47246</td>\n",
       "      <td>0.032584</td>\n",
       "      <td>3.100417</td>\n",
       "      <td>1.541473</td>\n",
       "      <td>0.0</td>\n",
       "      <td>0.0</td>\n",
       "      <td>0.32</td>\n",
       "      <td>0.07</td>\n",
       "      <td>2076</td>\n",
       "    </tr>\n",
       "    <tr>\n",
       "      <th>3</th>\n",
       "      <td>HD102249</td>\n",
       "      <td>BHr</td>\n",
       "      <td>PC</td>\n",
       "      <td>0</td>\n",
       "      <td>0_local_HD102249_BHr.npy</td>\n",
       "      <td>Local</td>\n",
       "      <td>2.485603</td>\n",
       "      <td>1506.040641</td>\n",
       "      <td>3.47246</td>\n",
       "      <td>0.032584</td>\n",
       "      <td>3.100417</td>\n",
       "      <td>1.541473</td>\n",
       "      <td>0.0</td>\n",
       "      <td>0.0</td>\n",
       "      <td>0.32</td>\n",
       "      <td>0.07</td>\n",
       "      <td>2076</td>\n",
       "    </tr>\n",
       "    <tr>\n",
       "      <th>4</th>\n",
       "      <td>HD102249</td>\n",
       "      <td>BHr</td>\n",
       "      <td>PC</td>\n",
       "      <td>19</td>\n",
       "      <td>19_curve_HD102249_BHr.npy</td>\n",
       "      <td>Curve</td>\n",
       "      <td>4.751788</td>\n",
       "      <td>1457.811459</td>\n",
       "      <td>3.47246</td>\n",
       "      <td>0.038840</td>\n",
       "      <td>4.774851</td>\n",
       "      <td>1.539857</td>\n",
       "      <td>0.0</td>\n",
       "      <td>0.0</td>\n",
       "      <td>0.31</td>\n",
       "      <td>0.09</td>\n",
       "      <td>1487</td>\n",
       "    </tr>\n",
       "    <tr>\n",
       "      <th>...</th>\n",
       "      <td>...</td>\n",
       "      <td>...</td>\n",
       "      <td>...</td>\n",
       "      <td>...</td>\n",
       "      <td>...</td>\n",
       "      <td>...</td>\n",
       "      <td>...</td>\n",
       "      <td>...</td>\n",
       "      <td>...</td>\n",
       "      <td>...</td>\n",
       "      <td>...</td>\n",
       "      <td>...</td>\n",
       "      <td>...</td>\n",
       "      <td>...</td>\n",
       "      <td>...</td>\n",
       "      <td>...</td>\n",
       "      <td>...</td>\n",
       "    </tr>\n",
       "    <tr>\n",
       "      <th>40874</th>\n",
       "      <td>HD93194</td>\n",
       "      <td>BHr</td>\n",
       "      <td>NOT_PC</td>\n",
       "      <td>21219</td>\n",
       "      <td>21219_global_HD93194_BHr.npy</td>\n",
       "      <td>Global</td>\n",
       "      <td>2.154236</td>\n",
       "      <td>3303.658707</td>\n",
       "      <td>3.40000</td>\n",
       "      <td>0.032684</td>\n",
       "      <td>2.861204</td>\n",
       "      <td>1.565683</td>\n",
       "      <td>0.0</td>\n",
       "      <td>0.0</td>\n",
       "      <td>NaN</td>\n",
       "      <td>NaN</td>\n",
       "      <td>4724</td>\n",
       "    </tr>\n",
       "    <tr>\n",
       "      <th>40875</th>\n",
       "      <td>HD93194</td>\n",
       "      <td>BHr</td>\n",
       "      <td>NOT_PC</td>\n",
       "      <td>21219</td>\n",
       "      <td>21219_local_HD93194_BHr.npy</td>\n",
       "      <td>Local</td>\n",
       "      <td>2.154236</td>\n",
       "      <td>3303.658707</td>\n",
       "      <td>3.40000</td>\n",
       "      <td>0.032684</td>\n",
       "      <td>2.861204</td>\n",
       "      <td>1.565683</td>\n",
       "      <td>0.0</td>\n",
       "      <td>0.0</td>\n",
       "      <td>NaN</td>\n",
       "      <td>NaN</td>\n",
       "      <td>4724</td>\n",
       "    </tr>\n",
       "    <tr>\n",
       "      <th>40876</th>\n",
       "      <td>HD93194</td>\n",
       "      <td>BHr</td>\n",
       "      <td>NOT_PC</td>\n",
       "      <td>21221</td>\n",
       "      <td>21221_fold_HD93194_BHr.npy</td>\n",
       "      <td>PhaseFold</td>\n",
       "      <td>3.516998</td>\n",
       "      <td>3334.659985</td>\n",
       "      <td>3.40000</td>\n",
       "      <td>0.056737</td>\n",
       "      <td>3.967053</td>\n",
       "      <td>1.549809</td>\n",
       "      <td>0.0</td>\n",
       "      <td>0.0</td>\n",
       "      <td>NaN</td>\n",
       "      <td>NaN</td>\n",
       "      <td>4724</td>\n",
       "    </tr>\n",
       "    <tr>\n",
       "      <th>40877</th>\n",
       "      <td>HD93194</td>\n",
       "      <td>BHr</td>\n",
       "      <td>NOT_PC</td>\n",
       "      <td>21221</td>\n",
       "      <td>21221_global_HD93194_BHr.npy</td>\n",
       "      <td>Global</td>\n",
       "      <td>3.516998</td>\n",
       "      <td>3334.659985</td>\n",
       "      <td>3.40000</td>\n",
       "      <td>0.056737</td>\n",
       "      <td>3.967053</td>\n",
       "      <td>1.549809</td>\n",
       "      <td>0.0</td>\n",
       "      <td>0.0</td>\n",
       "      <td>NaN</td>\n",
       "      <td>NaN</td>\n",
       "      <td>4724</td>\n",
       "    </tr>\n",
       "    <tr>\n",
       "      <th>40878</th>\n",
       "      <td>HD93194</td>\n",
       "      <td>BHr</td>\n",
       "      <td>NOT_PC</td>\n",
       "      <td>21221</td>\n",
       "      <td>21221_local_HD93194_BHr.npy</td>\n",
       "      <td>Local</td>\n",
       "      <td>3.516998</td>\n",
       "      <td>3334.659985</td>\n",
       "      <td>3.40000</td>\n",
       "      <td>0.056737</td>\n",
       "      <td>3.967053</td>\n",
       "      <td>1.549809</td>\n",
       "      <td>0.0</td>\n",
       "      <td>0.0</td>\n",
       "      <td>NaN</td>\n",
       "      <td>NaN</td>\n",
       "      <td>4724</td>\n",
       "    </tr>\n",
       "  </tbody>\n",
       "</table>\n",
       "<p>40879 rows × 17 columns</p>\n",
       "</div>"
      ],
      "text/plain": [
       "         target satellite   label  index                      filename  \\\n",
       "0      HD102249       BHr      PC      0      0_curve_HD102249_BHr.npy   \n",
       "1      HD102249       BHr      PC      0       0_fold_HD102249_BHr.npy   \n",
       "2      HD102249       BHr      PC      0     0_global_HD102249_BHr.npy   \n",
       "3      HD102249       BHr      PC      0      0_local_HD102249_BHr.npy   \n",
       "4      HD102249       BHr      PC     19     19_curve_HD102249_BHr.npy   \n",
       "...         ...       ...     ...    ...                           ...   \n",
       "40874   HD93194       BHr  NOT_PC  21219  21219_global_HD93194_BHr.npy   \n",
       "40875   HD93194       BHr  NOT_PC  21219   21219_local_HD93194_BHr.npy   \n",
       "40876   HD93194       BHr  NOT_PC  21221    21221_fold_HD93194_BHr.npy   \n",
       "40877   HD93194       BHr  NOT_PC  21221  21221_global_HD93194_BHr.npy   \n",
       "40878   HD93194       BHr  NOT_PC  21221   21221_local_HD93194_BHr.npy   \n",
       "\n",
       "            view    period           t0  star_radius         k       aos  \\\n",
       "0          Curve  2.485603  1506.040641      3.47246  0.032584  3.100417   \n",
       "1      PhaseFold  2.485603  1506.040641      3.47246  0.032584  3.100417   \n",
       "2         Global  2.485603  1506.040641      3.47246  0.032584  3.100417   \n",
       "3          Local  2.485603  1506.040641      3.47246  0.032584  3.100417   \n",
       "4          Curve  4.751788  1457.811459      3.47246  0.038840  4.774851   \n",
       "...          ...       ...          ...          ...       ...       ...   \n",
       "40874     Global  2.154236  3303.658707      3.40000  0.032684  2.861204   \n",
       "40875      Local  2.154236  3303.658707      3.40000  0.032684  2.861204   \n",
       "40876  PhaseFold  3.516998  3334.659985      3.40000  0.056737  3.967053   \n",
       "40877     Global  3.516998  3334.659985      3.40000  0.056737  3.967053   \n",
       "40878      Local  3.516998  3334.659985      3.40000  0.056737  3.967053   \n",
       "\n",
       "              i    e    w  ldcs_1  ldcs_2  n_points_transit  \n",
       "0      1.541473  0.0  0.0    0.32    0.07              2076  \n",
       "1      1.541473  0.0  0.0    0.32    0.07              2076  \n",
       "2      1.541473  0.0  0.0    0.32    0.07              2076  \n",
       "3      1.541473  0.0  0.0    0.32    0.07              2076  \n",
       "4      1.539857  0.0  0.0    0.31    0.09              1487  \n",
       "...         ...  ...  ...     ...     ...               ...  \n",
       "40874  1.565683  0.0  0.0     NaN     NaN              4724  \n",
       "40875  1.565683  0.0  0.0     NaN     NaN              4724  \n",
       "40876  1.549809  0.0  0.0     NaN     NaN              4724  \n",
       "40877  1.549809  0.0  0.0     NaN     NaN              4724  \n",
       "40878  1.549809  0.0  0.0     NaN     NaN              4724  \n",
       "\n",
       "[40879 rows x 17 columns]"
      ]
     },
     "execution_count": 2,
     "metadata": {},
     "output_type": "execute_result"
    }
   ],
   "source": [
    "data_labeled_selected = pd.read_csv('data_labeled_selected.csv')\n",
    "data_labeled_selected"
   ]
  },
  {
   "cell_type": "code",
   "execution_count": 80,
   "id": "f2003d97",
   "metadata": {},
   "outputs": [],
   "source": [
    "planet_radius_array = data_labeled_selected[(data_labeled_selected[\"view\"] == \"Global\")&(data_labeled_selected[\"label\"] == \"PC\")][\"planet_radius\"].copy()"
   ]
  },
  {
   "cell_type": "code",
   "execution_count": 81,
   "id": "5345c71c",
   "metadata": {},
   "outputs": [
    {
     "name": "stdout",
     "output_type": "stream",
     "text": [
      "2.097910301607317\n",
      "0.46542214095506185\n"
     ]
    }
   ],
   "source": [
    "print(np.max(planet_radius_array))\n",
    "print(np.min(planet_radius_array))"
   ]
  },
  {
   "cell_type": "code",
   "execution_count": 83,
   "id": "fd1c362c",
   "metadata": {},
   "outputs": [
    {
     "data": {
      "text/plain": [
       "0.9315332690453231"
      ]
     },
     "execution_count": 83,
     "metadata": {},
     "output_type": "execute_result"
    }
   ],
   "source": [
    "planet_radius_array[planet_radius_array>=0.89].shape[0] / planet_radius_array.shape[0]"
   ]
  },
  {
   "cell_type": "code",
   "execution_count": 84,
   "id": "06b44d85",
   "metadata": {},
   "outputs": [
    {
     "data": {
      "text/plain": [
       "0.04580520732883317"
      ]
     },
     "execution_count": 84,
     "metadata": {},
     "output_type": "execute_result"
    }
   ],
   "source": [
    "planet_radius_array[planet_radius_array>=2.05].shape[0] / planet_radius_array.shape[0]"
   ]
  },
  {
   "cell_type": "code",
   "execution_count": null,
   "id": "d8e7712b",
   "metadata": {},
   "outputs": [],
   "source": []
  },
  {
   "cell_type": "code",
   "execution_count": 3,
   "id": "8f514b58",
   "metadata": {},
   "outputs": [
    {
     "data": {
      "text/html": [
       "<div>\n",
       "<style scoped>\n",
       "    .dataframe tbody tr th:only-of-type {\n",
       "        vertical-align: middle;\n",
       "    }\n",
       "\n",
       "    .dataframe tbody tr th {\n",
       "        vertical-align: top;\n",
       "    }\n",
       "\n",
       "    .dataframe thead th {\n",
       "        text-align: right;\n",
       "    }\n",
       "</style>\n",
       "<table border=\"1\" class=\"dataframe\">\n",
       "  <thead>\n",
       "    <tr style=\"text-align: right;\">\n",
       "      <th></th>\n",
       "      <th>Name</th>\n",
       "      <th>RA</th>\n",
       "      <th>DEC</th>\n",
       "    </tr>\n",
       "  </thead>\n",
       "  <tbody>\n",
       "    <tr>\n",
       "      <th>0</th>\n",
       "      <td>HD 030652</td>\n",
       "      <td>72.460047</td>\n",
       "      <td>6.961278</td>\n",
       "    </tr>\n",
       "    <tr>\n",
       "      <th>1</th>\n",
       "      <td>HD 056456</td>\n",
       "      <td>108.658919</td>\n",
       "      <td>-48.271928</td>\n",
       "    </tr>\n",
       "    <tr>\n",
       "      <th>2</th>\n",
       "      <td>HD 071935</td>\n",
       "      <td>126.902441</td>\n",
       "      <td>-53.088479</td>\n",
       "    </tr>\n",
       "    <tr>\n",
       "      <th>3</th>\n",
       "      <td>HD 074753</td>\n",
       "      <td>130.917804</td>\n",
       "      <td>-49.822801</td>\n",
       "    </tr>\n",
       "    <tr>\n",
       "      <th>4</th>\n",
       "      <td>HD 093308</td>\n",
       "      <td>161.264774</td>\n",
       "      <td>-59.684431</td>\n",
       "    </tr>\n",
       "    <tr>\n",
       "      <th>...</th>\n",
       "      <td>...</td>\n",
       "      <td>...</td>\n",
       "      <td>...</td>\n",
       "    </tr>\n",
       "    <tr>\n",
       "      <th>531</th>\n",
       "      <td>HD 096918</td>\n",
       "      <td>167.147458</td>\n",
       "      <td>-58.975038</td>\n",
       "    </tr>\n",
       "    <tr>\n",
       "      <th>532</th>\n",
       "      <td>HD 096919</td>\n",
       "      <td>167.141658</td>\n",
       "      <td>-61.947176</td>\n",
       "    </tr>\n",
       "    <tr>\n",
       "      <th>533</th>\n",
       "      <td>HD 097670</td>\n",
       "      <td>168.378261</td>\n",
       "      <td>-59.619317</td>\n",
       "    </tr>\n",
       "    <tr>\n",
       "      <th>534</th>\n",
       "      <td>HD 098718</td>\n",
       "      <td>170.251692</td>\n",
       "      <td>-54.491018</td>\n",
       "    </tr>\n",
       "    <tr>\n",
       "      <th>535</th>\n",
       "      <td>HD 099556</td>\n",
       "      <td>171.647574</td>\n",
       "      <td>-61.115168</td>\n",
       "    </tr>\n",
       "  </tbody>\n",
       "</table>\n",
       "<p>536 rows × 3 columns</p>\n",
       "</div>"
      ],
      "text/plain": [
       "          Name          RA        DEC\n",
       "0    HD 030652   72.460047   6.961278\n",
       "1    HD 056456  108.658919 -48.271928\n",
       "2    HD 071935  126.902441 -53.088479\n",
       "3    HD 074753  130.917804 -49.822801\n",
       "4    HD 093308  161.264774 -59.684431\n",
       "..         ...         ...        ...\n",
       "531  HD 096918  167.147458 -58.975038\n",
       "532  HD 096919  167.141658 -61.947176\n",
       "533  HD 097670  168.378261 -59.619317\n",
       "534  HD 098718  170.251692 -54.491018\n",
       "535  HD 099556  171.647574 -61.115168\n",
       "\n",
       "[536 rows x 3 columns]"
      ]
     },
     "execution_count": 3,
     "metadata": {},
     "output_type": "execute_result"
    }
   ],
   "source": [
    "query_to_mast = pd.read_csv('query_to_mast.csv', header =1)\n",
    "query_to_mast"
   ]
  },
  {
   "cell_type": "code",
   "execution_count": null,
   "id": "d468b6f4",
   "metadata": {},
   "outputs": [],
   "source": []
  },
  {
   "cell_type": "code",
   "execution_count": 4,
   "id": "547c04cb",
   "metadata": {},
   "outputs": [
    {
     "name": "stdout",
     "output_type": "stream",
     "text": [
      "(100,)\n",
      "['HD102249' 'HD102776' 'HD105211' 'HD105435' 'HD106983' 'HD110879'\n",
      " 'HD111123' 'HD112078' 'HD112092' 'HD114911' 'HD118716' 'HD122451'\n",
      " 'HD12311' 'HD128620' 'HD128621' 'HD128898' 'HD136664' 'HD159492'\n",
      " 'HD160032' 'HD16620' 'HD16970' 'HD172167' 'HD173648' 'HD176687'\n",
      " 'HD177196' 'HD178253' 'HD178449' 'HD183056' 'HD18331' 'HD184006'\n",
      " 'HD18543' 'HD186155' 'HD18633' 'HD189178' 'HD19107' 'HD191610' 'HD192640'\n",
      " 'HD192685' 'HD19356' 'HD195068' 'HD198183' 'HD198639' 'HD201092'\n",
      " 'HD201433' 'HD201601' 'HD20320' 'HD20395' 'HD204188' 'HD205924' 'HD20630'\n",
      " 'HD207223' 'HD207652' 'HD209790' 'HD210074' 'HD210129' 'HD211336'\n",
      " 'HD213617' 'HD214168' 'HD217014' 'HD217891' 'HD218045' 'HD218396'\n",
      " 'HD219134' 'HD22049' 'HD22468' 'HD22484' 'HD22634' 'HD23249' 'HD24863'\n",
      " 'HD25346' 'HD27290' 'HD27459' 'HD27463' 'HD27628' 'HD27934' 'HD28052'\n",
      " 'HD29305' 'HD30478' 'HD30652' 'HD36653' 'HD36861' 'HD38899' 'HD39060'\n",
      " 'HD39587' 'HD40183' 'HD40312' 'HD432' 'HD46328' 'HD54118' 'HD54893'\n",
      " 'HD55892' 'HD56022' 'HD61068' 'HD64503' 'HD71935' 'HD74375' 'HD74956'\n",
      " 'HD80007' 'HD83446' 'HD93194']\n"
     ]
    }
   ],
   "source": [
    "print(np.unique(data_labeled_selected[\"target\"]).shape)\n",
    "print(np.unique(data_labeled_selected[\"target\"]))"
   ]
  },
  {
   "cell_type": "code",
   "execution_count": 5,
   "id": "eab81b45",
   "metadata": {},
   "outputs": [],
   "source": [
    "target_names = [\"D \".join(name.split(\"D\")) for name in np.unique(data_labeled_selected[\"target\"]) ]"
   ]
  },
  {
   "cell_type": "code",
   "execution_count": null,
   "id": "1fba2d61",
   "metadata": {},
   "outputs": [],
   "source": []
  },
  {
   "cell_type": "code",
   "execution_count": 6,
   "id": "e506ecd5",
   "metadata": {},
   "outputs": [],
   "source": [
    "not_found_in_mast_query = []\n",
    "\n",
    "for name in np.unique(data_labeled_selected[\"target\"]):\n",
    "    star_id = name.split(\"HD\")[1]    \n",
    "    diff = 6 - len(star_id)# for example HD 123 to HD 000123\n",
    "    star_id = f\"HD {diff*'0'+star_id}\" \n",
    "    #print(star_id)\n",
    "    if (star_id not in query_to_mast[\"Name\"].values):\n",
    "        not_found_in_mast_query.append(star_id)\n",
    "  "
   ]
  },
  {
   "cell_type": "code",
   "execution_count": 7,
   "id": "25ac1a2d",
   "metadata": {},
   "outputs": [
    {
     "data": {
      "text/plain": [
       "[]"
      ]
     },
     "execution_count": 7,
     "metadata": {},
     "output_type": "execute_result"
    }
   ],
   "source": [
    "not_found_in_mast_query"
   ]
  },
  {
   "cell_type": "code",
   "execution_count": null,
   "id": "5f20647d",
   "metadata": {},
   "outputs": [],
   "source": []
  },
  {
   "cell_type": "markdown",
   "id": "84c9f7f0",
   "metadata": {},
   "source": [
    "## Using TIC"
   ]
  },
  {
   "cell_type": "code",
   "execution_count": null,
   "id": "0dffcc02",
   "metadata": {},
   "outputs": [],
   "source": []
  },
  {
   "cell_type": "code",
   "execution_count": null,
   "id": "adb4af8e",
   "metadata": {},
   "outputs": [],
   "source": []
  },
  {
   "cell_type": "code",
   "execution_count": 8,
   "id": "70d8e3fe",
   "metadata": {},
   "outputs": [],
   "source": [
    "#The following lines beginning with # are comments. Readable columns names and datatypes are provided as informational comment lines in addition to the database column names.\n",
    "#If you want to re-upload this table import it as a Generic Table with these header lines unmodified.\n",
    "#Name, RA, DEC, MatchID, MatchRa, MatchDEC, dstArcSec, Version, HIP, TYC ID, UCAC ID, 2MASS ID, SDSS ID, ALLWISE ID, GAIA ID, APASS ID, KIC ID, Object Type, Source of Type, Source of Position, pmRA, pmRA Err., pmDEC, pmDec Err., PM Flag, Parallax, Parallax Err., Source of Parallax, Gal. Long., Gal. Lat., Ecl. Long., Ecl. Lat., B Mag., B Mag. Err., V Mag., V Mag. Err., u Mag., u Mag. Err., g Mag., g Mag. Err., r Mag., r Mag. Err., i Mag., i Mag. Err., z Mag., z Mag. Err., J Mag., J Mag. Err., H Mag., H Mag. Err., K Mag., K Mag. Err., TWOMflag, prox, W1 Mag., W1 Mag. Err., W2 Mag., W2 Mag. Err., W3 Mag., W3 Mag. Err., W4 Mag., W4 Mag. Err., GAIA G Mag., GAIA G Mag. Err., TESS Mag., TESS Mag. Err., TESS Flag, Stellar Properties Flag, T_eff, T_eff Err., log(g), log(g) Err., Metallicity, Metallicity Err., Stellar Radius, Stellar Radius Err., Stellar Mass, Stellar Mass Err., Stellar Density, Stellar Density Err., Luminosity Class from RPM, Stellar Luminosity, Stellar Luminosity Err., Distance, Distance Err., E(B-V), E(B-V) Err., Num. Sources in Aper., Contam. Ratio, Disposition, duplicate_id, priority, eneg_EBV, epos_EBV, EBVflag, eneg_Mass, epos_Mass, eneg_Rad, epos_Rad, eneg_rho, epos_rho, eneg_logg, epos_logg, eneg_lum, epos_lum, eneg_dist, epos_dist, distflag, eneg_Teff, epos_Teff, TeffFlag, gaiabp, e_gaiabp, gaiarp, e_gaiarp, gaiaqflag, starchareFlag, VmagFlag, BmagFlag, splists, e_RA, e_Dec, RA_orig, Dec_orig, e_RA_orig, e_Dec_orig, raddflag, wdflag, selected\n",
    "#@string, ra, dec, string, float, float, float, string, string, string, string, string, string, string, string, string, string, string, string, string, float, float, float, float, string, float, float, string, float, float, float, float, float, float, float, float, float, float, float, float, float, float, float, float, float, float, float, float, float, float, float, float, string, float, float, float, float, float, float, float, float, float, float, float, float, float, string, string, float, float, float, float, float, float, float, float, float, float, float, float, string, float, float, float, float, float, float, int, float, string, string, float, float, float, string, float, float, float, float, float, float, float, float, float, float, float, float, string, float, float, string, float, float, float, float, int, string, string, string, string, float, float, float, float, float, float, int, int, string\n",
    "\n",
    "TIC_query = pd.read_csv(\"MAST_Crossmatch_TIC.csv\")"
   ]
  },
  {
   "cell_type": "code",
   "execution_count": null,
   "id": "0e682c5b",
   "metadata": {},
   "outputs": [],
   "source": []
  },
  {
   "cell_type": "code",
   "execution_count": 9,
   "id": "5981608e",
   "metadata": {},
   "outputs": [
    {
     "name": "stdout",
     "output_type": "stream",
     "text": [
      "100\n"
     ]
    }
   ],
   "source": [
    "\n",
    "target_names = []\n",
    "for name in np.unique(data_labeled_selected[\"target\"]):\n",
    "    star_id = name.split(\"HD\")[1]    \n",
    "    diff = 6 - len(star_id)# for example HD 123 to HD 000123\n",
    "    star_id = f\"HD {diff*'0'+star_id}\"     \n",
    "    if (star_id not in TIC_query[\"Name\"].values):\n",
    "        print(\"not found, \", star_id)\n",
    "    else:\n",
    "        target_names.append(star_id)\n",
    "        \n",
    "print(len(target_names))"
   ]
  },
  {
   "cell_type": "code",
   "execution_count": 10,
   "id": "bb943e3d",
   "metadata": {},
   "outputs": [],
   "source": [
    "selected_query = TIC_query[TIC_query['Name'].isin(target_names)]"
   ]
  },
  {
   "cell_type": "code",
   "execution_count": 11,
   "id": "6bf94f43",
   "metadata": {},
   "outputs": [
    {
     "name": "stdout",
     "output_type": "stream",
     "text": [
      "(109, 129)\n"
     ]
    },
    {
     "data": {
      "text/html": [
       "<div>\n",
       "<style scoped>\n",
       "    .dataframe tbody tr th:only-of-type {\n",
       "        vertical-align: middle;\n",
       "    }\n",
       "\n",
       "    .dataframe tbody tr th {\n",
       "        vertical-align: top;\n",
       "    }\n",
       "\n",
       "    .dataframe thead th {\n",
       "        text-align: right;\n",
       "    }\n",
       "</style>\n",
       "<table border=\"1\" class=\"dataframe\">\n",
       "  <thead>\n",
       "    <tr style=\"text-align: right;\">\n",
       "      <th></th>\n",
       "      <th>Name</th>\n",
       "      <th>RA</th>\n",
       "      <th>DEC</th>\n",
       "      <th>MatchID</th>\n",
       "      <th>MatchRa</th>\n",
       "      <th>MatchDEC</th>\n",
       "      <th>dstArcSec</th>\n",
       "      <th>version</th>\n",
       "      <th>HIP</th>\n",
       "      <th>TYC</th>\n",
       "      <th>...</th>\n",
       "      <th>splists</th>\n",
       "      <th>e_RA</th>\n",
       "      <th>e_Dec</th>\n",
       "      <th>RA_orig</th>\n",
       "      <th>Dec_orig</th>\n",
       "      <th>e_RA_orig</th>\n",
       "      <th>e_Dec_orig</th>\n",
       "      <th>raddflag</th>\n",
       "      <th>wdflag</th>\n",
       "      <th>_selected_</th>\n",
       "    </tr>\n",
       "  </thead>\n",
       "  <tbody>\n",
       "    <tr>\n",
       "      <th>5</th>\n",
       "      <td>HD 022468</td>\n",
       "      <td>54.197046</td>\n",
       "      <td>0.587761</td>\n",
       "      <td>311092804</td>\n",
       "      <td>54.197046</td>\n",
       "      <td>0.587761</td>\n",
       "      <td>0.001151</td>\n",
       "      <td>20190415</td>\n",
       "      <td>16846.0</td>\n",
       "      <td>0064-01568-1</td>\n",
       "      <td>...</td>\n",
       "      <td>NaN</td>\n",
       "      <td>2.031286</td>\n",
       "      <td>1.825092</td>\n",
       "      <td>54.196905</td>\n",
       "      <td>0.587064</td>\n",
       "      <td>0.068235</td>\n",
       "      <td>0.054173</td>\n",
       "      <td>0</td>\n",
       "      <td>0</td>\n",
       "      <td>False</td>\n",
       "    </tr>\n",
       "    <tr>\n",
       "      <th>19</th>\n",
       "      <td>HD 056022</td>\n",
       "      <td>108.305627</td>\n",
       "      <td>-45.182738</td>\n",
       "      <td>134500902</td>\n",
       "      <td>108.305628</td>\n",
       "      <td>-45.182738</td>\n",
       "      <td>0.002054</td>\n",
       "      <td>20190415</td>\n",
       "      <td>34899.0</td>\n",
       "      <td>8119-01757-1</td>\n",
       "      <td>...</td>\n",
       "      <td>NaN</td>\n",
       "      <td>4.040313</td>\n",
       "      <td>3.789962</td>\n",
       "      <td>108.305474</td>\n",
       "      <td>-45.183114</td>\n",
       "      <td>0.113280</td>\n",
       "      <td>0.120050</td>\n",
       "      <td>1</td>\n",
       "      <td>0</td>\n",
       "      <td>False</td>\n",
       "    </tr>\n",
       "    <tr>\n",
       "      <th>23</th>\n",
       "      <td>HD 189178</td>\n",
       "      <td>299.307782</td>\n",
       "      <td>40.367826</td>\n",
       "      <td>171977235</td>\n",
       "      <td>299.307782</td>\n",
       "      <td>40.367825</td>\n",
       "      <td>0.002358</td>\n",
       "      <td>20190415</td>\n",
       "      <td>98194.0</td>\n",
       "      <td>3141-03693-1</td>\n",
       "      <td>...</td>\n",
       "      <td>NaN</td>\n",
       "      <td>2.777704</td>\n",
       "      <td>3.149034</td>\n",
       "      <td>299.307820</td>\n",
       "      <td>40.367827</td>\n",
       "      <td>0.079311</td>\n",
       "      <td>0.111974</td>\n",
       "      <td>-1</td>\n",
       "      <td>0</td>\n",
       "      <td>False</td>\n",
       "    </tr>\n",
       "    <tr>\n",
       "      <th>27</th>\n",
       "      <td>HD 019107</td>\n",
       "      <td>46.068820</td>\n",
       "      <td>-7.600855</td>\n",
       "      <td>23137804</td>\n",
       "      <td>46.068821</td>\n",
       "      <td>-7.600855</td>\n",
       "      <td>0.002602</td>\n",
       "      <td>20190415</td>\n",
       "      <td>14293.0</td>\n",
       "      <td>5294-01195-1</td>\n",
       "      <td>...</td>\n",
       "      <td>NaN</td>\n",
       "      <td>3.355586</td>\n",
       "      <td>3.497569</td>\n",
       "      <td>46.069113</td>\n",
       "      <td>-7.600779</td>\n",
       "      <td>0.115219</td>\n",
       "      <td>0.117160</td>\n",
       "      <td>1</td>\n",
       "      <td>0</td>\n",
       "      <td>False</td>\n",
       "    </tr>\n",
       "    <tr>\n",
       "      <th>30</th>\n",
       "      <td>HD 071935</td>\n",
       "      <td>126.902441</td>\n",
       "      <td>-53.088479</td>\n",
       "      <td>140349824</td>\n",
       "      <td>126.902440</td>\n",
       "      <td>-53.088479</td>\n",
       "      <td>0.002654</td>\n",
       "      <td>20190415</td>\n",
       "      <td>41483.0</td>\n",
       "      <td>8568-03119-1</td>\n",
       "      <td>...</td>\n",
       "      <td>NaN</td>\n",
       "      <td>4.598427</td>\n",
       "      <td>4.405054</td>\n",
       "      <td>126.901960</td>\n",
       "      <td>-53.088369</td>\n",
       "      <td>0.111645</td>\n",
       "      <td>0.126416</td>\n",
       "      <td>1</td>\n",
       "      <td>0</td>\n",
       "      <td>False</td>\n",
       "    </tr>\n",
       "  </tbody>\n",
       "</table>\n",
       "<p>5 rows × 129 columns</p>\n",
       "</div>"
      ],
      "text/plain": [
       "         Name          RA        DEC    MatchID     MatchRa   MatchDEC  \\\n",
       "5   HD 022468   54.197046   0.587761  311092804   54.197046   0.587761   \n",
       "19  HD 056022  108.305627 -45.182738  134500902  108.305628 -45.182738   \n",
       "23  HD 189178  299.307782  40.367826  171977235  299.307782  40.367825   \n",
       "27  HD 019107   46.068820  -7.600855   23137804   46.068821  -7.600855   \n",
       "30  HD 071935  126.902441 -53.088479  140349824  126.902440 -53.088479   \n",
       "\n",
       "    dstArcSec   version      HIP           TYC  ... splists      e_RA  \\\n",
       "5    0.001151  20190415  16846.0  0064-01568-1  ...     NaN  2.031286   \n",
       "19   0.002054  20190415  34899.0  8119-01757-1  ...     NaN  4.040313   \n",
       "23   0.002358  20190415  98194.0  3141-03693-1  ...     NaN  2.777704   \n",
       "27   0.002602  20190415  14293.0  5294-01195-1  ...     NaN  3.355586   \n",
       "30   0.002654  20190415  41483.0  8568-03119-1  ...     NaN  4.598427   \n",
       "\n",
       "       e_Dec     RA_orig   Dec_orig  e_RA_orig  e_Dec_orig raddflag wdflag  \\\n",
       "5   1.825092   54.196905   0.587064   0.068235    0.054173        0      0   \n",
       "19  3.789962  108.305474 -45.183114   0.113280    0.120050        1      0   \n",
       "23  3.149034  299.307820  40.367827   0.079311    0.111974       -1      0   \n",
       "27  3.497569   46.069113  -7.600779   0.115219    0.117160        1      0   \n",
       "30  4.405054  126.901960 -53.088369   0.111645    0.126416        1      0   \n",
       "\n",
       "   _selected_  \n",
       "5       False  \n",
       "19      False  \n",
       "23      False  \n",
       "27      False  \n",
       "30      False  \n",
       "\n",
       "[5 rows x 129 columns]"
      ]
     },
     "execution_count": 11,
     "metadata": {},
     "output_type": "execute_result"
    }
   ],
   "source": [
    "print(selected_query.shape)\n",
    "selected_query.head()\n"
   ]
  },
  {
   "cell_type": "code",
   "execution_count": 12,
   "id": "8b913e7d",
   "metadata": {},
   "outputs": [
    {
     "name": "stdout",
     "output_type": "stream",
     "text": [
      "Name |info ->  Name\n",
      "RA |info ->  RA\n",
      "DEC |info ->  DEC\n",
      "MatchID |info ->  MatchID\n",
      "MatchRa |info ->  MatchRa\n",
      "MatchDEC |info ->  MatchDEC\n",
      "dstArcSec |info ->  dstArcSec\n",
      "version |info ->  Version\n",
      "HIP |info ->  HIP\n",
      "TYC |info ->  TYC ID\n",
      "UCAC |info ->  UCAC ID\n",
      "TWOMASS |info ->  2MASS ID\n",
      "SDSS |info ->  SDSS ID\n",
      "ALLWISE |info ->  ALLWISE ID\n",
      "GAIA |info ->  GAIA ID\n",
      "APASS |info ->  APASS ID\n",
      "KIC |info ->  KIC ID\n",
      "objType |info ->  Object Type\n",
      "typeSrc |info ->  Source of Type\n",
      "POSflag |info ->  Source of Position\n",
      "pmRA |info ->  pmRA\n",
      "e_pmRA |info ->  pmRA Err.\n",
      "pmDEC |info ->  pmDEC\n",
      "e_pmDEC |info ->  pmDec Err.\n",
      "PMflag |info ->  PM Flag\n",
      "plx |info ->  Parallax\n",
      "e_plx |info ->  Parallax Err.\n",
      "PARflag |info ->  Source of Parallax\n",
      "gallong |info ->  Gal. Long.\n",
      "gallat |info ->  Gal. Lat.\n",
      "eclong |info ->  Ecl. Long.\n",
      "eclat |info ->  Ecl. Lat.\n",
      "Bmag |info ->  B Mag.\n",
      "e_Bmag |info ->  B Mag. Err.\n",
      "Vmag |info ->  V Mag.\n",
      "e_Vmag |info ->  V Mag. Err.\n",
      "umag |info ->  u Mag.\n",
      "e_umag |info ->  u Mag. Err.\n",
      "gmag |info ->  g Mag.\n",
      "e_gmag |info ->  g Mag. Err.\n",
      "rmag |info ->  r Mag.\n",
      "e_rmag |info ->  r Mag. Err.\n",
      "imag |info ->  i Mag.\n",
      "e_imag |info ->  i Mag. Err.\n",
      "zmag |info ->  z Mag.\n",
      "e_zmag |info ->  z Mag. Err.\n",
      "Jmag |info ->  J Mag.\n",
      "e_Jmag |info ->  J Mag. Err.\n",
      "Hmag |info ->  H Mag.\n",
      "e_Hmag |info ->  H Mag. Err.\n",
      "Kmag |info ->  K Mag.\n",
      "e_Kmag |info ->  K Mag. Err.\n",
      "TWOMflag |info ->  TWOMflag\n",
      "prox |info ->  prox\n",
      "w1mag |info ->  W1 Mag.\n",
      "e_w1mag |info ->  W1 Mag. Err.\n",
      "w2mag |info ->  W2 Mag.\n",
      "e_w2mag |info ->  W2 Mag. Err.\n",
      "w3mag |info ->  W3 Mag.\n",
      "e_w3mag |info ->  W3 Mag. Err.\n",
      "w4mag |info ->  W4 Mag.\n",
      "e_w4mag |info ->  W4 Mag. Err.\n",
      "GAIAmag |info ->  GAIA G Mag.\n",
      "e_GAIAmag |info ->  GAIA G Mag. Err.\n",
      "Tmag |info ->  TESS Mag.\n",
      "e_Tmag |info ->  TESS Mag. Err.\n",
      "TESSflag |info ->  TESS Flag\n",
      "SPFlag |info ->  Stellar Properties Flag\n",
      "Teff |info ->  T_eff\n",
      "e_Teff |info ->  T_eff Err.\n",
      "logg |info ->  log(g)\n",
      "e_logg |info ->  log(g) Err.\n",
      "MH |info ->  Metallicity\n",
      "e_MH |info ->  Metallicity Err.\n",
      "rad |info ->  Stellar Radius\n",
      "e_rad |info ->  Stellar Radius Err.\n",
      "mass |info ->  Stellar Mass\n",
      "e_mass |info ->  Stellar Mass Err.\n",
      "rho |info ->  Stellar Density\n",
      "e_rho |info ->  Stellar Density Err.\n",
      "lumclass |info ->  Luminosity Class from RPM\n",
      "lum |info ->  Stellar Luminosity\n",
      "e_lum |info ->  Stellar Luminosity Err.\n",
      "d |info ->  Distance\n",
      "e_d |info ->  Distance Err.\n",
      "ebv |info ->  E(B-V)\n",
      "e_ebv |info ->  E(B-V) Err.\n",
      "numcont |info ->  Num. Sources in Aper.\n",
      "contratio |info ->  Contam. Ratio\n",
      "disposition |info ->  Disposition\n",
      "duplicate_id |info ->  duplicate_id\n",
      "priority |info ->  priority\n",
      "eneg_EBV |info ->  eneg_EBV\n",
      "epos_EBV |info ->  epos_EBV\n",
      "EBVflag |info ->  EBVflag\n",
      "eneg_Mass |info ->  eneg_Mass\n",
      "epos_Mass |info ->  epos_Mass\n",
      "eneg_Rad |info ->  eneg_Rad\n",
      "epos_Rad |info ->  epos_Rad\n",
      "eneg_rho |info ->  eneg_rho\n",
      "epos_rho |info ->  epos_rho\n",
      "eneg_logg |info ->  eneg_logg\n",
      "epos_logg |info ->  epos_logg\n",
      "eneg_lum |info ->  eneg_lum\n",
      "epos_lum |info ->  epos_lum\n",
      "eneg_dist |info ->  eneg_dist\n",
      "epos_dist |info ->  epos_dist\n",
      "distflag |info ->  distflag\n",
      "eneg_Teff |info ->  eneg_Teff\n",
      "epos_Teff |info ->  epos_Teff\n",
      "TeffFlag |info ->  TeffFlag\n",
      "gaiabp |info ->  gaiabp\n",
      "e_gaiabp |info ->  e_gaiabp\n",
      "gaiarp |info ->  gaiarp\n",
      "e_gaiarp |info ->  e_gaiarp\n",
      "gaiaqflag |info ->  gaiaqflag\n",
      "starchareFlag |info ->  starchareFlag\n",
      "VmagFlag |info ->  VmagFlag\n",
      "BmagFlag |info ->  BmagFlag\n",
      "splists |info ->  splists\n",
      "e_RA |info ->  e_RA\n",
      "e_Dec |info ->  e_Dec\n",
      "RA_orig |info ->  RA_orig\n",
      "Dec_orig |info ->  Dec_orig\n",
      "e_RA_orig |info ->  e_RA_orig\n",
      "e_Dec_orig |info ->  e_Dec_orig\n",
      "raddflag |info ->  raddflag\n",
      "wdflag |info ->  wdflag\n",
      "_selected_ |info ->  selected\n"
     ]
    }
   ],
   "source": [
    "info = [\"Name\",\"RA\",\"DEC\",\"MatchID\",\"MatchRa\",\"MatchDEC\",\"dstArcSec\",\"Version\",\"HIP\",\"TYC ID\",\"UCAC ID\",\"2MASS ID\",\"SDSS ID\",\"ALLWISE ID\",\"GAIA ID\",\"APASS ID\",\"KIC ID\",\"Object Type\",\"Source of Type\",\"Source of Position\",\"pmRA\",\"pmRA Err.\",\"pmDEC\",\"pmDec Err.\",\"PM Flag\",\"Parallax\",\"Parallax Err.\",\"Source of Parallax\",\"Gal. Long.\",\"Gal. Lat.\",\"Ecl. Long.\",\"Ecl. Lat.\",\"B Mag.\",\"B Mag. Err.\",\"V Mag.\",\"V Mag. Err.\",\"u Mag.\",\"u Mag. Err.\",\"g Mag.\",\"g Mag. Err.\",\"r Mag.\",\"r Mag. Err.\",\"i Mag.\",\"i Mag. Err.\",\"z Mag.\",\"z Mag. Err.\",\"J Mag.\",\"J Mag. Err.\",\"H Mag.\",\"H Mag. Err.\",\"K Mag.\",\"K Mag. Err.\",\"TWOMflag\",\"prox\",\"W1 Mag.\",\"W1 Mag. Err.\",\"W2 Mag.\",\"W2 Mag. Err.\",\"W3 Mag.\",\"W3 Mag. Err.\",\"W4 Mag.\",\"W4 Mag. Err.\",\"GAIA G Mag.\",\"GAIA G Mag. Err.\",\"TESS Mag.\",\"TESS Mag. Err.\",\"TESS Flag\",\"Stellar Properties Flag\",\"T_eff\",\"T_eff Err.\",\"log(g)\",\"log(g) Err.\",\"Metallicity\",\"Metallicity Err.\",\"Stellar Radius\",\"Stellar Radius Err.\",\"Stellar Mass\",\"Stellar Mass Err.\",\"Stellar Density\",\"Stellar Density Err.\",\"Luminosity Class from RPM\",\"Stellar Luminosity\",\"Stellar Luminosity Err.\",\"Distance\",\"Distance Err.\",\"E(B-V)\",\"E(B-V) Err.\",\"Num. Sources in Aper.\",\"Contam. Ratio\",\"Disposition\",\"duplicate_id\",\"priority\",\"eneg_EBV\",\"epos_EBV\",\"EBVflag\",\"eneg_Mass\",\"epos_Mass\",\"eneg_Rad\",\"epos_Rad\",\"eneg_rho\",\"epos_rho\",\"eneg_logg\",\"epos_logg\",\"eneg_lum\",\"epos_lum\",\"eneg_dist\",\"epos_dist\",\"distflag\",\"eneg_Teff\",\"epos_Teff\",\"TeffFlag\",\"gaiabp\",\"e_gaiabp\",\"gaiarp\",\"e_gaiarp\",\"gaiaqflag\",\"starchareFlag\",\"VmagFlag\",\"BmagFlag\",\"splists\",\"e_RA\",\"e_Dec\",\"RA_orig\",\"Dec_orig\",\"e_RA_orig\",\"e_Dec_orig\",\"raddflag\",\"wdflag\",\"selected\"]\n",
    "for i, col in enumerate(selected_query.columns):\n",
    "    print(col, \"|info -> \", info[i])"
   ]
  },
  {
   "cell_type": "code",
   "execution_count": 13,
   "id": "cd5bde69",
   "metadata": {},
   "outputs": [],
   "source": [
    "from collections import Counter\n"
   ]
  },
  {
   "cell_type": "code",
   "execution_count": 14,
   "id": "dc8ee056",
   "metadata": {},
   "outputs": [
    {
     "data": {
      "text/plain": [
       "array(['GIANT', 'DWARF', nan, 'DWARF', 'DWARF', 'DWARF', 'DWARF', 'DWARF',\n",
       "       'DWARF', 'DWARF', nan, 'DWARF', 'DWARF', 'DWARF', 'DWARF', 'DWARF',\n",
       "       'DWARF', 'DWARF', 'DWARF', 'DWARF', 'DWARF', nan, 'DWARF', 'DWARF',\n",
       "       nan, 'DWARF', 'DWARF', 'DWARF', nan, 'DWARF', 'DWARF', 'DWARF',\n",
       "       'DWARF', 'DWARF', 'DWARF', 'DWARF', nan, nan, 'DWARF', nan,\n",
       "       'DWARF', nan, 'DWARF', nan, nan, nan, 'DWARF', 'DWARF', 'DWARF',\n",
       "       'DWARF', 'DWARF', 'DWARF', nan, 'DWARF', nan, 'DWARF', 'DWARF',\n",
       "       'DWARF', 'DWARF', 'DWARF', nan, nan, 'DWARF', nan, 'DWARF',\n",
       "       'DWARF', 'DWARF', 'DWARF', 'DWARF', nan, nan, nan, 'DWARF', nan,\n",
       "       nan, 'DWARF', nan, 'DWARF', 'DWARF', 'DWARF', nan, nan, 'DWARF',\n",
       "       'DWARF', 'GIANT', 'SUBGIANT', nan, 'DWARF', 'DWARF', nan, 'DWARF',\n",
       "       nan, nan, 'DWARF', nan, nan, 'DWARF', nan, nan, nan, nan, nan, nan,\n",
       "       nan, 'GIANT', nan, nan, nan, nan], dtype=object)"
      ]
     },
     "execution_count": 14,
     "metadata": {},
     "output_type": "execute_result"
    }
   ],
   "source": [
    "selected_query[\"lumclass\"].values"
   ]
  },
  {
   "cell_type": "code",
   "execution_count": 15,
   "id": "a3bd1332",
   "metadata": {},
   "outputs": [],
   "source": [
    "#np.isnan(selected_query[\"lumclass\"].values)"
   ]
  },
  {
   "cell_type": "code",
   "execution_count": 16,
   "id": "4270ee70",
   "metadata": {},
   "outputs": [
    {
     "data": {
      "text/plain": [
       "{'GIANT': 3, 'DWARF': 63, 'SUBGIANT': 1}"
      ]
     },
     "execution_count": 16,
     "metadata": {},
     "output_type": "execute_result"
    }
   ],
   "source": [
    "\n",
    "counter = {}\n",
    "\n",
    "for cl in selected_query[\"lumclass\"]:\n",
    "    if ( type(cl) != str and  np.isnan(float(cl))):\n",
    "        continue\n",
    "\n",
    "    if (cl not in counter):\n",
    "        counter[cl] = 1\n",
    "    else: \n",
    "        counter[cl] += 1\n",
    "        \n",
    "counter"
   ]
  },
  {
   "cell_type": "code",
   "execution_count": 17,
   "id": "21065d37",
   "metadata": {},
   "outputs": [
    {
     "name": "stdout",
     "output_type": "stream",
     "text": [
      "[63, 3, 1]\n"
     ]
    }
   ],
   "source": [
    "keys = ['DWARF', 'GIANT', 'SUBGIANT']\n",
    "values = [0, 0, 0]\n",
    "for i, name in enumerate(keys):\n",
    "    values[i] = counter[name]\n",
    "print(values)"
   ]
  },
  {
   "cell_type": "code",
   "execution_count": null,
   "id": "71eea223",
   "metadata": {},
   "outputs": [],
   "source": []
  },
  {
   "cell_type": "code",
   "execution_count": 18,
   "id": "1166fb6f",
   "metadata": {},
   "outputs": [
    {
     "data": {
      "image/png": "[encoded data removed]",
      "text/plain": [
       "<Figure size 432x288 with 1 Axes>"
      ]
     },
     "metadata": {
      "needs_background": "light"
     },
     "output_type": "display_data"
    },
    {
     "data": {
      "image/png": "[encoded data removed]",
      "text/plain": [
       "<Figure size 432x288 with 1 Axes>"
      ]
     },
     "metadata": {
      "needs_background": "light"
     },
     "output_type": "display_data"
    }
   ],
   "source": [
    "plt.title(\"Luminosity Class Crossmatch TIC\", fontsize = 15)\n",
    "plt.bar(counter.keys(), counter.values())\n",
    "plt.ylabel(\"Count\", fontsize = 13)\n",
    "plt.xlabel(\"Class\", fontsize = 13)\n",
    "plt.show()\n",
    "\n",
    "plt.title(\"Luminosity Class Crossmatch TIC\", fontsize = 15)\n",
    "plt.bar(keys, values)\n",
    "plt.ylabel(\"Count\", fontsize = 13)\n",
    "plt.xlabel(\"Class\", fontsize = 13)\n",
    "plt.show()"
   ]
  },
  {
   "cell_type": "markdown",
   "id": "23a18bd5",
   "metadata": {},
   "source": [
    "## Using SIMBAD"
   ]
  },
  {
   "cell_type": "code",
   "execution_count": 19,
   "id": "b12eb70b",
   "metadata": {},
   "outputs": [],
   "source": [
    "from astroquery.simbad import Simbad\n",
    "# https://github.com/astropy/astroquery/blob/main/astroquery/simbad/data/votable_fields_dict.json\n",
    "# http://simbad.cds.unistra.fr/guide/sim-fscript.htx\n",
    "Simbad.add_votable_fields('plx') \n",
    "Simbad.add_votable_fields('diameter')\n",
    "Simbad.add_votable_fields('sp')\n",
    "Simbad.add_votable_fields('mk')\n"
   ]
  },
  {
   "cell_type": "code",
   "execution_count": 20,
   "id": "cb9587df",
   "metadata": {},
   "outputs": [
    {
     "data": {
      "text/html": [
       "<div><i>Table length=1</i>\n",
       "<table id=\"table2716578134672\" class=\"table-striped table-bordered table-condensed\">\n",
       "<thead><tr><th>MAIN_ID</th><th>RA</th><th>DEC</th><th>RA_PREC</th><th>DEC_PREC</th><th>COO_ERR_MAJA</th><th>COO_ERR_MINA</th><th>COO_ERR_ANGLE</th><th>COO_QUAL</th><th>COO_WAVELENGTH</th><th>COO_BIBCODE</th><th>PLX_VALUE</th><th>Diameter_diameter</th><th>Diameter_Q</th><th>Diameter_unit</th><th>Diameter_error</th><th>Diameter_filter</th><th>Diameter_method</th><th>Diameter_bibcode</th><th>SP_TYPE</th><th>MK_ds</th><th>MK_mss</th><th>MK_Spectral_type</th><th>MK_bibcode</th><th>SCRIPT_NUMBER_ID</th></tr></thead>\n",
       "<thead><tr><th></th><th>&quot;h:m:s&quot;</th><th>&quot;d:m:s&quot;</th><th></th><th></th><th>mas</th><th>mas</th><th>deg</th><th></th><th></th><th></th><th>mas</th><th></th><th></th><th></th><th></th><th></th><th></th><th></th><th></th><th></th><th></th><th></th><th></th><th></th></tr></thead>\n",
       "<thead><tr><th>object</th><th>str13</th><th>str13</th><th>int16</th><th>int16</th><th>float32</th><th>float32</th><th>int16</th><th>str1</th><th>str1</th><th>object</th><th>float64</th><th>float64</th><th>str1</th><th>str4</th><th>float64</th><th>str8</th><th>str8</th><th>str19</th><th>object</th><th>str2</th><th>str3</th><th>object</th><th>str19</th><th>int32</th></tr></thead>\n",
       "<tr><td>HD  17163</td><td>02 45 20.9065</td><td>+04 42 41.874</td><td>14</td><td>14</td><td>0.056</td><td>0.051</td><td>90</td><td>A</td><td>O</td><td>2020yCat.1350....0G</td><td>20.372</td><td>--</td><td></td><td></td><td>--</td><td></td><td></td><td></td><td>kA8hA9mF0III</td><td></td><td></td><td>F0</td><td>1993yCat.3135....0C</td><td>1</td></tr>\n",
       "</table></div>"
      ],
      "text/plain": [
       "<Table length=1>\n",
       " MAIN_ID        RA           DEC      ...      MK_bibcode     SCRIPT_NUMBER_ID\n",
       "             \"h:m:s\"       \"d:m:s\"    ...                                     \n",
       "  object      str13         str13     ...        str19             int32      \n",
       "--------- ------------- ------------- ... ------------------- ----------------\n",
       "HD  17163 02 45 20.9065 +04 42 41.874 ... 1993yCat.3135....0C                1"
      ]
     },
     "execution_count": 20,
     "metadata": {},
     "output_type": "execute_result"
    }
   ],
   "source": [
    "result_table = Simbad.query_object(\"HD 017163\")\n",
    "result_table"
   ]
  },
  {
   "cell_type": "code",
   "execution_count": 21,
   "id": "cdbb9ddf",
   "metadata": {},
   "outputs": [
    {
     "data": {
      "text/plain": [
       "100"
      ]
     },
     "execution_count": 21,
     "metadata": {},
     "output_type": "execute_result"
    }
   ],
   "source": [
    "len(target_names)"
   ]
  },
  {
   "cell_type": "code",
   "execution_count": 22,
   "id": "a375c5bc",
   "metadata": {},
   "outputs": [],
   "source": [
    "\n",
    "\n",
    "diameters_simbad = []\n",
    "mk_simbad = []\n",
    "\n",
    "for target in target_names:\n",
    "    result_table = Simbad.query_object(target)\n",
    "    diameters_simbad.append( result_table[\"Diameter_diameter\"].value.data[0] )\n",
    "    mk_simbad.append( result_table[\"MK_Spectral_type\"].value.data[0] )"
   ]
  },
  {
   "cell_type": "code",
   "execution_count": 23,
   "id": "19161094",
   "metadata": {},
   "outputs": [
    {
     "name": "stdout",
     "output_type": "stream",
     "text": [
      "100\n",
      "100\n"
     ]
    }
   ],
   "source": [
    "print(len(mk_simbad))\n",
    "print(len(diameters_simbad))\n"
   ]
  },
  {
   "cell_type": "code",
   "execution_count": 24,
   "id": "41ba84b0",
   "metadata": {},
   "outputs": [
    {
     "data": {
      "text/html": [
       "<div>\n",
       "<style scoped>\n",
       "    .dataframe tbody tr th:only-of-type {\n",
       "        vertical-align: middle;\n",
       "    }\n",
       "\n",
       "    .dataframe tbody tr th {\n",
       "        vertical-align: top;\n",
       "    }\n",
       "\n",
       "    .dataframe thead th {\n",
       "        text-align: right;\n",
       "    }\n",
       "</style>\n",
       "<table border=\"1\" class=\"dataframe\">\n",
       "  <thead>\n",
       "    <tr style=\"text-align: right;\">\n",
       "      <th></th>\n",
       "      <th>Name</th>\n",
       "      <th>diameter_simbad</th>\n",
       "      <th>mk</th>\n",
       "    </tr>\n",
       "  </thead>\n",
       "  <tbody>\n",
       "    <tr>\n",
       "      <th>0</th>\n",
       "      <td>HD 102249</td>\n",
       "      <td>NaN</td>\n",
       "      <td>A7 V</td>\n",
       "    </tr>\n",
       "    <tr>\n",
       "      <th>1</th>\n",
       "      <td>HD 102776</td>\n",
       "      <td>NaN</td>\n",
       "      <td>B3V</td>\n",
       "    </tr>\n",
       "    <tr>\n",
       "      <th>2</th>\n",
       "      <td>HD 105211</td>\n",
       "      <td>NaN</td>\n",
       "      <td>F2 V</td>\n",
       "    </tr>\n",
       "    <tr>\n",
       "      <th>3</th>\n",
       "      <td>HD 105435</td>\n",
       "      <td>NaN</td>\n",
       "      <td>B1V</td>\n",
       "    </tr>\n",
       "    <tr>\n",
       "      <th>4</th>\n",
       "      <td>HD 106983</td>\n",
       "      <td>NaN</td>\n",
       "      <td>B3V</td>\n",
       "    </tr>\n",
       "    <tr>\n",
       "      <th>...</th>\n",
       "      <td>...</td>\n",
       "      <td>...</td>\n",
       "      <td>...</td>\n",
       "    </tr>\n",
       "    <tr>\n",
       "      <th>95</th>\n",
       "      <td>HD 074375</td>\n",
       "      <td>NaN</td>\n",
       "      <td>B1.5III</td>\n",
       "    </tr>\n",
       "    <tr>\n",
       "      <th>96</th>\n",
       "      <td>HD 074956</td>\n",
       "      <td>NaN</td>\n",
       "      <td>A1 Va(n)</td>\n",
       "    </tr>\n",
       "    <tr>\n",
       "      <th>97</th>\n",
       "      <td>HD 080007</td>\n",
       "      <td>NaN</td>\n",
       "      <td>A1 III-</td>\n",
       "    </tr>\n",
       "    <tr>\n",
       "      <th>98</th>\n",
       "      <td>HD 083446</td>\n",
       "      <td>NaN</td>\n",
       "      <td>A7 V</td>\n",
       "    </tr>\n",
       "    <tr>\n",
       "      <th>99</th>\n",
       "      <td>HD 093194</td>\n",
       "      <td>NaN</td>\n",
       "      <td>B2/5</td>\n",
       "    </tr>\n",
       "  </tbody>\n",
       "</table>\n",
       "<p>100 rows × 3 columns</p>\n",
       "</div>"
      ],
      "text/plain": [
       "         Name  diameter_simbad        mk\n",
       "0   HD 102249              NaN      A7 V\n",
       "1   HD 102776              NaN       B3V\n",
       "2   HD 105211              NaN      F2 V\n",
       "3   HD 105435              NaN       B1V\n",
       "4   HD 106983              NaN       B3V\n",
       "..        ...              ...       ...\n",
       "95  HD 074375              NaN   B1.5III\n",
       "96  HD 074956              NaN  A1 Va(n)\n",
       "97  HD 080007              NaN   A1 III-\n",
       "98  HD 083446              NaN      A7 V\n",
       "99  HD 093194              NaN      B2/5\n",
       "\n",
       "[100 rows x 3 columns]"
      ]
     },
     "execution_count": 24,
     "metadata": {},
     "output_type": "execute_result"
    }
   ],
   "source": [
    "SIMBAD = pd.DataFrame()\n",
    "SIMBAD[\"Name\"] = target_names\n",
    "SIMBAD[\"diameter_simbad\"] = diameters_simbad\n",
    "SIMBAD[\"mk\"] = mk_simbad\n",
    "SIMBAD"
   ]
  },
  {
   "cell_type": "code",
   "execution_count": 25,
   "id": "4776a1ed",
   "metadata": {},
   "outputs": [],
   "source": [
    "mk_copy =  SIMBAD[\"mk\"].copy().values\n",
    "mk_copy.sort()\n",
    "\n",
    "\n"
   ]
  },
  {
   "cell_type": "code",
   "execution_count": 26,
   "id": "adb2e216",
   "metadata": {},
   "outputs": [
    {
     "name": "stdout",
     "output_type": "stream",
     "text": [
      "100\n",
      "['A0' 'A0' 'A0 . P:' 'A0 Va' 'A0IV' 'A0V' 'A0p' 'A1 III-' 'A1 IV-Vp...'\n",
      " 'A1 Va(n)' 'A2' 'A2' 'A2' 'A2' 'A2 Va' 'A2.5 Va' 'A2V' 'A3' 'A3' 'A3'\n",
      " 'A3' 'A3' 'A4V' 'A5' 'A5Vn' 'A6Vm' 'A7 V' 'A7 V' 'A7IV-V' 'A7V' 'A8V'\n",
      " 'A9/F0III/IV' 'A9IV-Vn' 'Ap' 'B 9 P SI' 'B1' 'B1' 'B1' 'B1.5III' 'B1III'\n",
      " 'B1V' 'B1Vne:' 'B2.5V' 'B2/5' 'B2III' 'B2V+B3V' 'B3' 'B3' 'B3' 'B3V'\n",
      " 'B3V' 'B3V' 'B3V' 'B4V' 'B4V' 'B5V' 'B5V' 'B6Ve' 'B7Vn' 'B8 V' 'B8V'\n",
      " 'B9.5V' 'B9IV' 'B9V' 'DELTA DEL' 'F0' 'F0' 'F0' 'F0' 'F0 IV'\n",
      " 'F0+ V ({lambda} Boo)...' 'F0V' 'F0p' 'F1 V' 'F1V' 'F2' 'F2 III' 'F2 V'\n",
      " 'F2III-IV' 'F2IV' 'F3 V Fe-1.0' 'F3V' 'F4 V' 'F5' 'F5 V Fe-0.7 CH-0.5'\n",
      " 'F5V' 'F8V' 'G0V' 'G2 V' 'G2V' 'G5V' 'K0+IV' 'K1' 'K2 IV C2+1 **' 'K2V'\n",
      " 'K3V' 'K7V' 'O 0 III((F))' 'kA4hA9mA9 V' 'kA6hF0mF2']\n"
     ]
    }
   ],
   "source": [
    "print(len(mk_copy))\n",
    "print(mk_copy)\n"
   ]
  },
  {
   "cell_type": "code",
   "execution_count": 27,
   "id": "86a754c5",
   "metadata": {},
   "outputs": [],
   "source": [
    "\n",
    "counter_mk = {}\n",
    "for mk in mk_copy:\n",
    "    if (mk[0:2] not in counter_mk):\n",
    "        counter_mk[mk[0:2]] = 1\n",
    "    else: \n",
    "        counter_mk[mk[0:2]] += 1"
   ]
  },
  {
   "cell_type": "code",
   "execution_count": 28,
   "id": "585c5c2d",
   "metadata": {},
   "outputs": [
    {
     "data": {
      "text/plain": [
       "{'A0': 7,\n",
       " 'A1': 3,\n",
       " 'A2': 7,\n",
       " 'A3': 5,\n",
       " 'A4': 1,\n",
       " 'A5': 2,\n",
       " 'A6': 1,\n",
       " 'A7': 4,\n",
       " 'A8': 1,\n",
       " 'A9': 2,\n",
       " 'Ap': 1,\n",
       " 'B ': 1,\n",
       " 'B1': 7,\n",
       " 'B2': 4,\n",
       " 'B3': 7,\n",
       " 'B4': 2,\n",
       " 'B5': 2,\n",
       " 'B6': 1,\n",
       " 'B7': 1,\n",
       " 'B8': 2,\n",
       " 'B9': 3,\n",
       " 'DE': 1,\n",
       " 'F0': 8,\n",
       " 'F1': 2,\n",
       " 'F2': 5,\n",
       " 'F3': 2,\n",
       " 'F4': 1,\n",
       " 'F5': 3,\n",
       " 'F8': 1,\n",
       " 'G0': 1,\n",
       " 'G2': 2,\n",
       " 'G5': 1,\n",
       " 'K0': 1,\n",
       " 'K1': 1,\n",
       " 'K2': 2,\n",
       " 'K3': 1,\n",
       " 'K7': 1,\n",
       " 'O ': 1,\n",
       " 'kA': 2}"
      ]
     },
     "execution_count": 28,
     "metadata": {},
     "output_type": "execute_result"
    }
   ],
   "source": [
    "counter_mk"
   ]
  },
  {
   "cell_type": "code",
   "execution_count": 29,
   "id": "413b2fb7",
   "metadata": {},
   "outputs": [
    {
     "data": {
      "image/png": "[encoded data removed]",
      "text/plain": [
       "<Figure size 864x288 with 1 Axes>"
      ]
     },
     "metadata": {
      "needs_background": "light"
     },
     "output_type": "display_data"
    }
   ],
   "source": [
    "plt.figure(figsize=(12, 4))\n",
    "\n",
    "plt.title(\"MK_Spectral_type_1. SIMBAD query\", size = 16)\n",
    "plt.bar(counter_mk.keys(), counter_mk.values())\n",
    "plt.xlabel(\"Class\", size = 14)\n",
    "plt.ylabel(\"Count\", size = 14)\n",
    "plt.show()"
   ]
  },
  {
   "cell_type": "markdown",
   "id": "791cc813",
   "metadata": {},
   "source": [
    "Tenemos tipos A, B, F, G, K, O. Mayoritariamente tipos A, B y F"
   ]
  },
  {
   "cell_type": "code",
   "execution_count": 30,
   "id": "e70e55fc",
   "metadata": {},
   "outputs": [],
   "source": [
    "\n",
    "counter_mk = {}\n",
    "for mk in mk_copy:\n",
    "    if (mk[0] not in counter_mk):\n",
    "        counter_mk[mk[0]] = 1\n",
    "    else: \n",
    "        counter_mk[mk[0]] += 1"
   ]
  },
  {
   "cell_type": "code",
   "execution_count": 31,
   "id": "19fd2ec0",
   "metadata": {},
   "outputs": [
    {
     "data": {
      "image/png": "[encoded data removed]",
      "text/plain": [
       "<Figure size 864x288 with 1 Axes>"
      ]
     },
     "metadata": {
      "needs_background": "light"
     },
     "output_type": "display_data"
    }
   ],
   "source": [
    "plt.figure(figsize=(12, 4))\n",
    "\n",
    "plt.title(\"MK Spectral type. SIMBAD query\", size = 16)\n",
    "plt.bar(counter_mk.keys(), counter_mk.values())\n",
    "plt.xlabel(\"Class\", size = 14)\n",
    "plt.ylabel(\"Count\", size = 14)\n",
    "\n",
    "plt.show()"
   ]
  },
  {
   "cell_type": "code",
   "execution_count": null,
   "id": "d72c9b61",
   "metadata": {},
   "outputs": [],
   "source": []
  },
  {
   "cell_type": "code",
   "execution_count": 32,
   "id": "18fd1d2d",
   "metadata": {},
   "outputs": [],
   "source": [
    "def earth2jupiter_radii(earth_radii):\n",
    "    return earth_radii*R_earth/R_jup\n",
    "\n",
    "def jupiter2earth_radii(jupiter_radii):\n",
    "    return jupiter_radii*R_jup/R_earth"
   ]
  },
  {
   "cell_type": "code",
   "execution_count": 33,
   "id": "d298119b",
   "metadata": {},
   "outputs": [
    {
     "name": "stdout",
     "output_type": "stream",
     "text": [
      "0.8921417781010462\n",
      "1.9627119118223018\n",
      "11.20898073093868\n"
     ]
    }
   ],
   "source": [
    "print(earth2jupiter_radii(10))\n",
    "print(earth2jupiter_radii(22))\n",
    "\n",
    "print(jupiter2earth_radii(1))"
   ]
  },
  {
   "cell_type": "code",
   "execution_count": 34,
   "id": "e7b81da4",
   "metadata": {},
   "outputs": [
    {
     "name": "stdout",
     "output_type": "stream",
     "text": [
      "10 R_earth:  0.8921417781010462\n",
      "22 R_earth:  1.9627119118223018\n",
      "\n",
      "10 R_earth:  0.8921417781010462\n",
      "21 R_earth:  1.8734977340121972\n"
     ]
    }
   ],
   "source": [
    "# A class (Confirmed Planet, Planet Candidate) 10-22 Radius earth\n",
    "print(\"10 R_earth: \", earth2jupiter_radii(10))\n",
    "print(\"22 R_earth: \",earth2jupiter_radii(22))\n",
    "print()\n",
    "\n",
    "# F class (Confirmed Planet, Planet Candidate) 10-21 Radius earth\n",
    "print(\"10 R_earth: \",earth2jupiter_radii(10))\n",
    "print(\"21 R_earth: \",earth2jupiter_radii(21))\n"
   ]
  },
  {
   "cell_type": "markdown",
   "id": "23241c5c",
   "metadata": {},
   "source": [
    "## About aos (earth-sun reference)"
   ]
  },
  {
   "cell_type": "code",
   "execution_count": 35,
   "id": "b2544ec6",
   "metadata": {},
   "outputs": [
    {
     "name": "stdout",
     "output_type": "stream",
     "text": [
      "215.0323745302757\n",
      "215.03215567054764\n"
     ]
    }
   ],
   "source": [
    "#au\n",
    "\n",
    "print(1.0000010178*au/R_sun)\n",
    "print(1*au/R_sun)"
   ]
  },
  {
   "cell_type": "markdown",
   "id": "15efd837",
   "metadata": {},
   "source": [
    "### About semi-major-axis"
   ]
  },
  {
   "cell_type": "code",
   "execution_count": 36,
   "id": "2bcf2f49",
   "metadata": {},
   "outputs": [
    {
     "name": "stdout",
     "output_type": "stream",
     "text": [
      "6957000000.0 m\n",
      "20871000000.0 m\n"
     ]
    }
   ],
   "source": [
    "# por ejemplo, para aos = 10 y radio 1 R_sun\n",
    "# 10 = a/r_sun \n",
    "# 10*r_sun = a\n",
    "\n",
    "print(10*R_sun)\n",
    "print(30*R_sun)\n"
   ]
  },
  {
   "cell_type": "code",
   "execution_count": null,
   "id": "b34d6f4d",
   "metadata": {},
   "outputs": [],
   "source": []
  },
  {
   "cell_type": "code",
   "execution_count": null,
   "id": "a7642f68",
   "metadata": {},
   "outputs": [],
   "source": []
  }
 ],
 "metadata": {
  "kernelspec": {
   "display_name": "Python (myenv)",
   "language": "python",
   "name": "myenv"
  },
  "language_info": {
   "codemirror_mode": {
    "name": "ipython",
    "version": 3
   },
   "file_extension": ".py",
   "mimetype": "text/x-python",
   "name": "python",
   "nbconvert_exporter": "python",
   "pygments_lexer": "ipython3",
   "version": "3.9.12"
  }
 },
 "nbformat": 4,
 "nbformat_minor": 5
}
